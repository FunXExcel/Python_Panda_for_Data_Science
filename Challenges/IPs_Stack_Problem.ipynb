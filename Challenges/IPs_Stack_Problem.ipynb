{
 "cells": [
  {
   "cell_type": "code",
   "execution_count": 85,
   "metadata": {},
   "outputs": [],
   "source": [
    "import pandas as pd"
   ]
  },
  {
   "cell_type": "code",
   "execution_count": 151,
   "metadata": {},
   "outputs": [
    {
     "data": {
      "text/html": [
       "<div>\n",
       "<style scoped>\n",
       "    .dataframe tbody tr th:only-of-type {\n",
       "        vertical-align: middle;\n",
       "    }\n",
       "\n",
       "    .dataframe tbody tr th {\n",
       "        vertical-align: top;\n",
       "    }\n",
       "\n",
       "    .dataframe thead th {\n",
       "        text-align: right;\n",
       "    }\n",
       "</style>\n",
       "<table border=\"1\" class=\"dataframe\">\n",
       "  <thead>\n",
       "    <tr style=\"text-align: right;\">\n",
       "      <th></th>\n",
       "      <th>Customer Segment</th>\n",
       "      <th>Product Category</th>\n",
       "      <th>Product Sub-Category</th>\n",
       "      <th>Product Container</th>\n",
       "      <th>Ips</th>\n",
       "    </tr>\n",
       "  </thead>\n",
       "  <tbody>\n",
       "    <tr>\n",
       "      <th>0</th>\n",
       "      <td>Consumer</td>\n",
       "      <td>Furniture</td>\n",
       "      <td>Bookcases</td>\n",
       "      <td>Jumbo Box</td>\n",
       "      <td>aaa__bbb1</td>\n",
       "    </tr>\n",
       "    <tr>\n",
       "      <th>1</th>\n",
       "      <td>Consumer</td>\n",
       "      <td>Furniture</td>\n",
       "      <td>Chairs &amp; Chairmats</td>\n",
       "      <td>Jumbo Drum</td>\n",
       "      <td>aaa__bbb2</td>\n",
       "    </tr>\n",
       "    <tr>\n",
       "      <th>2</th>\n",
       "      <td>Consumer</td>\n",
       "      <td>Furniture</td>\n",
       "      <td>Chairs &amp; Chairmats</td>\n",
       "      <td>Large Box</td>\n",
       "      <td>aaa__bbb3</td>\n",
       "    </tr>\n",
       "    <tr>\n",
       "      <th>3</th>\n",
       "      <td>Consumer</td>\n",
       "      <td>Furniture</td>\n",
       "      <td>Chairs &amp; Chairmats</td>\n",
       "      <td>Medium Box</td>\n",
       "      <td>aaa__bbb4</td>\n",
       "    </tr>\n",
       "    <tr>\n",
       "      <th>4</th>\n",
       "      <td>Consumer</td>\n",
       "      <td>Furniture</td>\n",
       "      <td>Office Furnishings</td>\n",
       "      <td>Jumbo Drum</td>\n",
       "      <td>aaa__bbb5</td>\n",
       "    </tr>\n",
       "  </tbody>\n",
       "</table>\n",
       "</div>"
      ],
      "text/plain": [
       "  Customer Segment Product Category Product Sub-Category Product Container  \\\n",
       "0         Consumer        Furniture            Bookcases         Jumbo Box   \n",
       "1         Consumer        Furniture   Chairs & Chairmats        Jumbo Drum   \n",
       "2         Consumer        Furniture   Chairs & Chairmats         Large Box   \n",
       "3         Consumer        Furniture   Chairs & Chairmats        Medium Box   \n",
       "4         Consumer        Furniture   Office Furnishings        Jumbo Drum   \n",
       "\n",
       "         Ips  \n",
       "0  aaa__bbb1  \n",
       "1  aaa__bbb2  \n",
       "2  aaa__bbb3  \n",
       "3  aaa__bbb4  \n",
       "4  aaa__bbb5  "
      ]
     },
     "execution_count": 151,
     "metadata": {},
     "output_type": "execute_result"
    }
   ],
   "source": [
    "ips = pd.read_csv('sampleips.csv')\n",
    "ips.head()"
   ]
  },
  {
   "cell_type": "code",
   "execution_count": 152,
   "metadata": {},
   "outputs": [
    {
     "data": {
      "text/plain": [
       "4"
      ]
     },
     "execution_count": 152,
     "metadata": {},
     "output_type": "execute_result"
    }
   ],
   "source": [
    "new = ips[\"Ips\"].str.split(\"__\", expand = False)\n",
    "myMax = max(new.str.len())\n",
    "myMax"
   ]
  },
  {
   "cell_type": "code",
   "execution_count": 153,
   "metadata": {},
   "outputs": [],
   "source": [
    "new = ips[\"Ips\"].str.split(\"__\", expand = True)"
   ]
  },
  {
   "cell_type": "code",
   "execution_count": 154,
   "metadata": {},
   "outputs": [],
   "source": [
    "for i in range(myMax):\n",
    "    myColName = \"Part_\" + str(i)\n",
    "    ips[myColName] = new[i]\n",
    "    #print(new[i])"
   ]
  },
  {
   "cell_type": "code",
   "execution_count": 155,
   "metadata": {},
   "outputs": [
    {
     "data": {
      "text/html": [
       "<div>\n",
       "<style scoped>\n",
       "    .dataframe tbody tr th:only-of-type {\n",
       "        vertical-align: middle;\n",
       "    }\n",
       "\n",
       "    .dataframe tbody tr th {\n",
       "        vertical-align: top;\n",
       "    }\n",
       "\n",
       "    .dataframe thead th {\n",
       "        text-align: right;\n",
       "    }\n",
       "</style>\n",
       "<table border=\"1\" class=\"dataframe\">\n",
       "  <thead>\n",
       "    <tr style=\"text-align: right;\">\n",
       "      <th></th>\n",
       "      <th>Customer Segment</th>\n",
       "      <th>Product Category</th>\n",
       "      <th>Product Sub-Category</th>\n",
       "      <th>Product Container</th>\n",
       "      <th>Ips</th>\n",
       "      <th>Part_0</th>\n",
       "      <th>Part_1</th>\n",
       "      <th>Part_2</th>\n",
       "      <th>Part_3</th>\n",
       "    </tr>\n",
       "  </thead>\n",
       "  <tbody>\n",
       "    <tr>\n",
       "      <th>0</th>\n",
       "      <td>Consumer</td>\n",
       "      <td>Furniture</td>\n",
       "      <td>Bookcases</td>\n",
       "      <td>Jumbo Box</td>\n",
       "      <td>aaa__bbb1</td>\n",
       "      <td>aaa</td>\n",
       "      <td>bbb1</td>\n",
       "      <td>None</td>\n",
       "      <td>None</td>\n",
       "    </tr>\n",
       "    <tr>\n",
       "      <th>1</th>\n",
       "      <td>Consumer</td>\n",
       "      <td>Furniture</td>\n",
       "      <td>Chairs &amp; Chairmats</td>\n",
       "      <td>Jumbo Drum</td>\n",
       "      <td>aaa__bbb2</td>\n",
       "      <td>aaa</td>\n",
       "      <td>bbb2</td>\n",
       "      <td>None</td>\n",
       "      <td>None</td>\n",
       "    </tr>\n",
       "    <tr>\n",
       "      <th>2</th>\n",
       "      <td>Consumer</td>\n",
       "      <td>Furniture</td>\n",
       "      <td>Chairs &amp; Chairmats</td>\n",
       "      <td>Large Box</td>\n",
       "      <td>aaa__bbb3</td>\n",
       "      <td>aaa</td>\n",
       "      <td>bbb3</td>\n",
       "      <td>None</td>\n",
       "      <td>None</td>\n",
       "    </tr>\n",
       "    <tr>\n",
       "      <th>3</th>\n",
       "      <td>Consumer</td>\n",
       "      <td>Furniture</td>\n",
       "      <td>Chairs &amp; Chairmats</td>\n",
       "      <td>Medium Box</td>\n",
       "      <td>aaa__bbb4</td>\n",
       "      <td>aaa</td>\n",
       "      <td>bbb4</td>\n",
       "      <td>None</td>\n",
       "      <td>None</td>\n",
       "    </tr>\n",
       "    <tr>\n",
       "      <th>4</th>\n",
       "      <td>Consumer</td>\n",
       "      <td>Furniture</td>\n",
       "      <td>Office Furnishings</td>\n",
       "      <td>Jumbo Drum</td>\n",
       "      <td>aaa__bbb5</td>\n",
       "      <td>aaa</td>\n",
       "      <td>bbb5</td>\n",
       "      <td>None</td>\n",
       "      <td>None</td>\n",
       "    </tr>\n",
       "  </tbody>\n",
       "</table>\n",
       "</div>"
      ],
      "text/plain": [
       "  Customer Segment Product Category Product Sub-Category Product Container  \\\n",
       "0         Consumer        Furniture            Bookcases         Jumbo Box   \n",
       "1         Consumer        Furniture   Chairs & Chairmats        Jumbo Drum   \n",
       "2         Consumer        Furniture   Chairs & Chairmats         Large Box   \n",
       "3         Consumer        Furniture   Chairs & Chairmats        Medium Box   \n",
       "4         Consumer        Furniture   Office Furnishings        Jumbo Drum   \n",
       "\n",
       "         Ips Part_0 Part_1 Part_2 Part_3  \n",
       "0  aaa__bbb1    aaa   bbb1   None   None  \n",
       "1  aaa__bbb2    aaa   bbb2   None   None  \n",
       "2  aaa__bbb3    aaa   bbb3   None   None  \n",
       "3  aaa__bbb4    aaa   bbb4   None   None  \n",
       "4  aaa__bbb5    aaa   bbb5   None   None  "
      ]
     },
     "execution_count": 155,
     "metadata": {},
     "output_type": "execute_result"
    }
   ],
   "source": [
    "ips.head()"
   ]
  },
  {
   "cell_type": "code",
   "execution_count": 156,
   "metadata": {},
   "outputs": [],
   "source": [
    "ips.set_index(['Customer Segment','Product Category','Product Sub-Category','Product Container'], inplace = True)"
   ]
  },
  {
   "cell_type": "code",
   "execution_count": 157,
   "metadata": {},
   "outputs": [],
   "source": [
    "ips.drop('Ips', axis = 1, inplace = True)"
   ]
  },
  {
   "cell_type": "code",
   "execution_count": 170,
   "metadata": {},
   "outputs": [
    {
     "data": {
      "text/html": [
       "<div>\n",
       "<style scoped>\n",
       "    .dataframe tbody tr th:only-of-type {\n",
       "        vertical-align: middle;\n",
       "    }\n",
       "\n",
       "    .dataframe tbody tr th {\n",
       "        vertical-align: top;\n",
       "    }\n",
       "\n",
       "    .dataframe thead th {\n",
       "        text-align: right;\n",
       "    }\n",
       "</style>\n",
       "<table border=\"1\" class=\"dataframe\">\n",
       "  <thead>\n",
       "    <tr style=\"text-align: right;\">\n",
       "      <th></th>\n",
       "      <th></th>\n",
       "      <th></th>\n",
       "      <th></th>\n",
       "      <th></th>\n",
       "      <th>Ips</th>\n",
       "    </tr>\n",
       "    <tr>\n",
       "      <th>Customer Segment</th>\n",
       "      <th>Product Category</th>\n",
       "      <th>Product Sub-Category</th>\n",
       "      <th>Product Container</th>\n",
       "      <th></th>\n",
       "      <th></th>\n",
       "    </tr>\n",
       "  </thead>\n",
       "  <tbody>\n",
       "    <tr>\n",
       "      <th rowspan=\"5\" valign=\"top\">Consumer</th>\n",
       "      <th rowspan=\"5\" valign=\"top\">Furniture</th>\n",
       "      <th rowspan=\"2\" valign=\"top\">Bookcases</th>\n",
       "      <th rowspan=\"2\" valign=\"top\">Jumbo Box</th>\n",
       "      <th>Part_0</th>\n",
       "      <td>aaa</td>\n",
       "    </tr>\n",
       "    <tr>\n",
       "      <th>Part_1</th>\n",
       "      <td>bbb1</td>\n",
       "    </tr>\n",
       "    <tr>\n",
       "      <th rowspan=\"3\" valign=\"top\">Chairs &amp; Chairmats</th>\n",
       "      <th rowspan=\"2\" valign=\"top\">Jumbo Drum</th>\n",
       "      <th>Part_0</th>\n",
       "      <td>aaa</td>\n",
       "    </tr>\n",
       "    <tr>\n",
       "      <th>Part_1</th>\n",
       "      <td>bbb2</td>\n",
       "    </tr>\n",
       "    <tr>\n",
       "      <th>Large Box</th>\n",
       "      <th>Part_0</th>\n",
       "      <td>aaa</td>\n",
       "    </tr>\n",
       "  </tbody>\n",
       "</table>\n",
       "</div>"
      ],
      "text/plain": [
       "                                                                                  Ips\n",
       "Customer Segment Product Category Product Sub-Category Product Container             \n",
       "Consumer         Furniture        Bookcases            Jumbo Box         Part_0   aaa\n",
       "                                                                         Part_1  bbb1\n",
       "                                  Chairs & Chairmats   Jumbo Drum        Part_0   aaa\n",
       "                                                                         Part_1  bbb2\n",
       "                                                       Large Box         Part_0   aaa"
      ]
     },
     "execution_count": 170,
     "metadata": {},
     "output_type": "execute_result"
    }
   ],
   "source": [
    "fin = pd.DataFrame(ips.stack())\n",
    "fin.columns = ['Ips']\n",
    "fin.head()"
   ]
  },
  {
   "cell_type": "code",
   "execution_count": 171,
   "metadata": {},
   "outputs": [],
   "source": [
    "fin.to_csv('fin.csv')"
   ]
  },
  {
   "cell_type": "code",
   "execution_count": null,
   "metadata": {},
   "outputs": [],
   "source": []
  }
 ],
 "metadata": {
  "kernelspec": {
   "display_name": "Python 3",
   "language": "python",
   "name": "python3"
  },
  "language_info": {
   "codemirror_mode": {
    "name": "ipython",
    "version": 3
   },
   "file_extension": ".py",
   "mimetype": "text/x-python",
   "name": "python",
   "nbconvert_exporter": "python",
   "pygments_lexer": "ipython3",
   "version": "3.6.6"
  }
 },
 "nbformat": 4,
 "nbformat_minor": 2
}
